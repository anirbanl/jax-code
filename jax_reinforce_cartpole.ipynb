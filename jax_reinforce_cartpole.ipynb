{
  "nbformat": 4,
  "nbformat_minor": 0,
  "metadata": {
    "colab": {
      "name": "jax_reinforce_cartpole.ipynb",
      "provenance": [],
      "collapsed_sections": []
    },
    "kernelspec": {
      "name": "python3",
      "display_name": "Python 3"
    },
    "accelerator": "GPU"
  },
  "cells": [
    {
      "cell_type": "markdown",
      "metadata": {
        "id": "fZXzjTFkorSI",
        "colab_type": "text"
      },
      "source": [
        "Reinforce implemented for Cartpole:\n",
        "\n",
        "> Original PyTorch code: https://github.com/udacity/deep-reinforcement-learning/blob/master/reinforce/REINFORCE.ipynb\n",
        "\n",
        "\n",
        "> Jax code from: https://github.com/matwilso/rl-implementations/blob/master/jax/reinforce.py\n",
        "\n",
        "\n",
        "\n"
      ]
    },
    {
      "cell_type": "code",
      "metadata": {
        "id": "-rfSA1px5b5r",
        "colab_type": "code",
        "colab": {}
      },
      "source": [
        "import gym\n",
        "gym.logger.set_level(40) # suppress warnings (please remove if gives error)\n",
        "import numpy as np\n",
        "from collections import deque\n",
        "import matplotlib.pyplot as plt\n",
        "%matplotlib inline\n",
        "from jax import jacobian, lax\n",
        "import jax\n",
        "import jax.numpy as jp\n",
        "from jax.ops import index, index_add, index_update\n",
        "from jax import jit, grad, vmap, random, jacrev, jacobian, jacfwd, value_and_grad\n",
        "from functools import partial\n",
        "from jax.experimental import stax # neural network library\n",
        "from jax.experimental.stax import GeneralConv, Conv, ConvTranspose, Dense, MaxPool, Relu, Flatten, LogSoftmax, LeakyRelu, Dropout, Tanh, Sigmoid, BatchNorm, Softmax # neural network layers\n",
        "from jax.nn import softmax, sigmoid\n",
        "from jax.nn.initializers import zeros\n",
        "from jax.experimental import optimizers\n",
        "from jax.tree_util import tree_multimap  # Element-wise manipulation of collections of numpy arrays"
      ],
      "execution_count": 0,
      "outputs": []
    },
    {
      "cell_type": "code",
      "metadata": {
        "id": "yBkm6i9U8zpP",
        "colab_type": "code",
        "colab": {}
      },
      "source": [
        "def one_hot(x, k, dtype=np.float32):\n",
        "    \"\"\"Create a one-hot encoding of x of size k.\"\"\"\n",
        "    return jp.array(x[:, None] == jp.arange(k), dtype)\n",
        "\n",
        "class Policy:\n",
        "    def __init__(self, rng, num_actions, s_size=4, h_size=16, a_size=2, lr=1e-2):\n",
        "        super(Policy, self).__init__()\n",
        "        self.key = rng\n",
        "        self.init_fun, self.apply_fun = stax.serial(\n",
        "            Dense(h_size), Dense(a_size), Softmax\n",
        "        )\n",
        "        self.in_shape = (-1, s_size)\n",
        "        self.opt_init, self.opt_update, self.get_params = optimizers.adam(step_size=lr)\n",
        "        _, self.net_params = self.init_fun(self.key, self.in_shape)\n",
        "        # print(net_params)\n",
        "        self.opt_state = self.opt_init(self.net_params)\n",
        "        self.opt_t = 1\n",
        "        self.num_actions = num_actions\n",
        "\n",
        "        def loss_fn(params, sar):\n",
        "            one_hot_actions = one_hot(sar['a'], self.num_actions)\n",
        "            probs = self.apply_fun(params, sar['s'])\n",
        "            return jp.sum(- one_hot_actions * jp.log(probs) * sar['r'])\n",
        "\n",
        "        @jit\n",
        "        def step_fn(i, opt_state, sar):\n",
        "            params = self.get_params(opt_state)\n",
        "            l, g = value_and_grad(loss_fn)(params, sar)\n",
        "            return self.opt_update(i, g, opt_state), l\n",
        "        self.step = step_fn\n",
        "\n",
        "\n",
        "    def update_key(self):\n",
        "        self.key, _ = jax.random.split(self.key)\n",
        "        return self.key\n",
        "\n",
        "    def act(self, state):\n",
        "        probs = self.apply_fun(self.net_params, state)\n",
        "        uf = jax.random.uniform(self.update_key(), (1,), minval=0.0, maxval=1.0)[0]\n",
        "        action = jp.argmax(uf < jp.cumsum(probs))\n",
        "        # print(action, probs, uf)\n",
        "        return action.item()#, jp.log(probs[action])\n",
        "\n",
        "    def update(self, sar, gamma=1.0):\n",
        "        discounts = [gamma**i for i in range(len(sar['r'])+1)]\n",
        "        sar['r'] = sum([a*b for a,b in zip(discounts, sar['r'])])\n",
        "        # print(f\"R={sar['r']}\")\n",
        "        sar['s'] = jp.array(sar['s'])\n",
        "        sar['a'] = jp.array(sar['a'])\n",
        "\n",
        "        self.opt_state, loss = self.step(self.opt_t, self.opt_state, sar)\n",
        "        self.opt_t += 1\n",
        "        self.net_params = self.get_params(self.opt_state)\n",
        "        return loss\n",
        "\n"
      ],
      "execution_count": 0,
      "outputs": []
    },
    {
      "cell_type": "code",
      "metadata": {
        "id": "GwNPcL7Ng75O",
        "colab_type": "code",
        "colab": {}
      },
      "source": [
        "def reinforce(env, policy, n_episodes=10000, max_t=1000, gamma=1.0, print_every=100):\n",
        "    scores_deque = deque(maxlen=100)\n",
        "    scores = []\n",
        "    for i_episode in range(1, n_episodes+1):\n",
        "        # print(f\"Episode {i_episode}\")\n",
        "        saved_log_probs = []\n",
        "        rewards = []\n",
        "        sar = {key: [] for key in 'sar'}\n",
        "        state = env.reset()\n",
        "        # print(f'State:{state}')\n",
        "        for t in range(max_t):\n",
        "            action = policy.act(state)\n",
        "            sar['s'].append(state)\n",
        "            sar['a'].append(action)\n",
        "            state, reward, done, _ = env.step(action)\n",
        "            sar['r'].append(reward)\n",
        "            rewards.append(reward)\n",
        "            if done:\n",
        "                # print(f'Done {t}')\n",
        "                break \n",
        "        scores_deque.append(sum(rewards))\n",
        "        scores.append(sum(rewards))\n",
        "        l = policy.update(sar, gamma)\n",
        "        # print(f'loss {l}')\n",
        "        \n",
        "        if i_episode % print_every == 0:\n",
        "            print('Episode {}\\tAverage Score: {:.2f}'.format(i_episode, np.mean(scores_deque)))\n",
        "        if np.mean(scores_deque)>=195.0:\n",
        "            print('Environment solved in {:d} episodes!\\tAverage Score: {:.2f}'.format(i_episode-100, np.mean(scores_deque)))\n",
        "            break\n",
        "        \n",
        "    return scores\n",
        "\n",
        "def plot_scores(scores):\n",
        "    fig = plt.figure()\n",
        "    ax = fig.add_subplot(111)\n",
        "    plt.plot(np.arange(1, len(scores)+1), scores)\n",
        "    plt.ylabel('Score')\n",
        "    plt.xlabel('Episode #')\n",
        "    plt.show()\n"
      ],
      "execution_count": 0,
      "outputs": []
    },
    {
      "cell_type": "code",
      "metadata": {
        "id": "3PZbYaXCYx-0",
        "colab_type": "code",
        "colab": {
          "base_uri": "https://localhost:8080/",
          "height": 625
        },
        "outputId": "2afbcd7a-dc80-48e5-f571-dd4bdb6c8808"
      },
      "source": [
        "def main():\n",
        "    env = gym.make('CartPole-v0')\n",
        "    env.seed(0)\n",
        "    print('observation space:', env.observation_space)\n",
        "    print('action space:', env.action_space.n)\n",
        "    rng = jax.random.PRNGKey(0)\n",
        "    pi = Policy(rng, env.action_space.n, lr=1e-3)\n",
        "    scores = reinforce(env, pi)\n",
        "    plot_scores(scores)\n",
        "\n",
        "if __name__ == '__main__':\n",
        "    main()"
      ],
      "execution_count": 7,
      "outputs": [
        {
          "output_type": "stream",
          "text": [
            "observation space: Box(4,)\n",
            "action space: 2\n",
            "Episode 100\tAverage Score: 29.85\n",
            "Episode 200\tAverage Score: 36.30\n",
            "Episode 300\tAverage Score: 40.93\n",
            "Episode 400\tAverage Score: 40.21\n",
            "Episode 500\tAverage Score: 52.14\n",
            "Episode 600\tAverage Score: 56.98\n",
            "Episode 700\tAverage Score: 62.85\n",
            "Episode 800\tAverage Score: 62.10\n",
            "Episode 900\tAverage Score: 74.62\n",
            "Episode 1000\tAverage Score: 110.18\n",
            "Episode 1100\tAverage Score: 142.18\n",
            "Episode 1200\tAverage Score: 150.86\n",
            "Episode 1300\tAverage Score: 174.46\n",
            "Episode 1400\tAverage Score: 159.82\n",
            "Episode 1500\tAverage Score: 176.61\n",
            "Episode 1600\tAverage Score: 190.42\n",
            "Episode 1700\tAverage Score: 194.03\n",
            "Environment solved in 1617 episodes!\tAverage Score: 195.15\n"
          ],
          "name": "stdout"
        },
        {
          "output_type": "display_data",
          "data": {
            "image/png": "[encoded data removed]",
            "text/plain": [
              "<Figure size 432x288 with 1 Axes>"
            ]
          },
          "metadata": {
            "tags": [],
            "needs_background": "light"
          }
        }
      ]
    }
  ]
}