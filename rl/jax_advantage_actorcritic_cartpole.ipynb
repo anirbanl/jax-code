{
  "nbformat": 4,
  "nbformat_minor": 0,
  "metadata": {
    "colab": {
      "name": "jax_advantage_actorcritic_cartpole.ipynb",
      "provenance": [],
      "collapsed_sections": []
    },
    "kernelspec": {
      "name": "python3",
      "display_name": "Python 3"
    },
    "accelerator": "GPU"
  },
  "cells": [
    {
      "cell_type": "markdown",
      "metadata": {
        "id": "XHNU07IBqSeE",
        "colab_type": "text"
      },
      "source": [
        "A2C: https://github.com/higgsfield/RL-Adventure-2/blob/master/1.actor-critic.ipynb\n",
        "\n",
        "Actor Critic code from Pytorch https://github.com/yc930401/Actor-Critic-pytorch/blob/master/Actor-Critic.py\n",
        "https://github.com/pytorch/examples/blob/master/reinforcement_learning/actor_critic.py\n",
        "\n",
        "Actual algorithm pseudocode: https://lilianweng.github.io/lil-log/2018/04/08/policy-gradient-algorithms.html#actor-critic"
      ]
    },
    {
      "cell_type": "code",
      "metadata": {
        "id": "zIZmqFTTl8Gm",
        "colab_type": "code",
        "colab": {}
      },
      "source": [
        "import gym\n",
        "gym.logger.set_level(40) # suppress warnings (please remove if gives error)\n",
        "import numpy as np\n",
        "from collections import deque\n",
        "import matplotlib.pyplot as plt\n",
        "%matplotlib inline\n",
        "from jax import jacobian, lax\n",
        "import jax\n",
        "import jax.numpy as jp\n",
        "from jax.ops import index, index_add, index_update\n",
        "from jax import jit, grad, vmap, random, jacrev, jacobian, jacfwd, value_and_grad\n",
        "from functools import partial\n",
        "from jax.experimental import stax # neural network library\n",
        "from jax.experimental.stax import GeneralConv, Conv, ConvTranspose, Dense, MaxPool, Relu, Flatten, LogSoftmax, LeakyRelu, Dropout, Tanh, Sigmoid, BatchNorm, Softmax # neural network layers\n",
        "from jax.nn import softmax, sigmoid\n",
        "from jax.nn.initializers import zeros\n",
        "from jax.experimental import optimizers\n",
        "from jax.tree_util import tree_multimap  # Element-wise manipulation of collections of numpy arrays"
      ],
      "execution_count": 0,
      "outputs": []
    },
    {
      "cell_type": "code",
      "metadata": {
        "id": "aBzlJLicqRaZ",
        "colab_type": "code",
        "colab": {}
      },
      "source": [
        "def one_hot(x, k, dtype=np.float32):\n",
        "    \"\"\"Create a one-hot encoding of x of size k.\"\"\"\n",
        "    return jp.array(x[:, None] == jp.arange(k), dtype)\n",
        "\n",
        "def cumulative_rewards(rewards, gamma):\n",
        "    returns = jp.zeros(len(rewards))\n",
        "    next_return = 0 # 0 because we start at the last timestep\n",
        "    for t in reversed(range(0, len(rewards))):\n",
        "        next_return = rewards[t] + gamma * next_return\n",
        "        returns = index_update(returns, index[t], next_return)\n",
        "    # normalize for better statistical properties\n",
        "    returns = (returns - returns.mean()) / (returns.std() + jp.finfo(jp.float32).eps)\n",
        "    return returns\n",
        "\n",
        "class Policy:\n",
        "    def __init__(self, rng, a_size=2, s_size=4, lr=1e-3):\n",
        "        super(Policy, self).__init__()\n",
        "        self.key = rng\n",
        "\n",
        "        #Actor network\n",
        "        self.actor_init, self.actor_apply = stax.serial(\n",
        "            Dense(128), Dense(256), Dense(a_size), Softmax\n",
        "        )\n",
        "        self.actor_in_shape = (-1, s_size)\n",
        "        self.actor_opt_init, self.actor_opt_update, self.actor_get_params = optimizers.adam(step_size=lr)\n",
        "        _, self.actor_params = self.actor_init(self.key, self.actor_in_shape)\n",
        "        self.actor_opt_state = self.actor_opt_init(self.actor_params)\n",
        "\n",
        "        #Critic network\n",
        "        self.critic_init, self.critic_apply = stax.serial(\n",
        "            Dense(128), Dense(256), Dense(1)\n",
        "        )\n",
        "        self.critic_in_shape = (-1, s_size)\n",
        "        self.critic_opt_init, self.critic_opt_update, self.critic_get_params = optimizers.adam(step_size=lr)\n",
        "        _, self.critic_params = self.critic_init(self.key, self.critic_in_shape)\n",
        "        self.critic_opt_state = self.critic_opt_init(self.critic_params)\n",
        "\n",
        "        self.opt_t = 1\n",
        "        self.num_actions = a_size\n",
        "\n",
        "        def loss_fn(actor_params, critic_params, sar):\n",
        "            one_hot_actions = one_hot(sar['a'], self.num_actions)\n",
        "            probs = self.actor_apply(actor_params, sar['s'])\n",
        "            values = self.critic_apply(critic_params, sar['s'])\n",
        "            advantage = sar['r'] - values.reshape(sar['r'].shape)\n",
        "            # print(one_hot_actions.shape, probs.shape, advantage.shape, sar['r'].shape, values.shape)\n",
        "            actor_loss = jp.einsum('ij,i->',- one_hot_actions * jp.log(probs), jax.lax.stop_gradient(advantage))\n",
        "            critic_loss = jp.mean(advantage**2)\n",
        "            return actor_loss, critic_loss\n",
        "\n",
        "        @jit\n",
        "        def step_fn(i, actor_opt_state, critic_opt_state, sar):\n",
        "            actor_params = self.actor_get_params(actor_opt_state)\n",
        "            critic_params = self.critic_get_params(critic_opt_state)\n",
        "            actor_loss = lambda x: loss_fn(x, critic_params, sar)[0]\n",
        "            critic_loss = lambda y: loss_fn(actor_params, y, sar)[1]\n",
        "            al, ag = value_and_grad(actor_loss)(actor_params)\n",
        "            cl, cg = value_and_grad(critic_loss)(critic_params)\n",
        "            return self.actor_opt_update(i, ag, actor_opt_state), self.critic_opt_update(i, cg, critic_opt_state), al, cl \n",
        "        self.step = step_fn\n",
        "\n",
        "\n",
        "    def update_key(self):\n",
        "        self.key, _ = jax.random.split(self.key)\n",
        "        return self.key\n",
        "\n",
        "    def act(self, state):\n",
        "        probs = self.actor_apply(self.actor_params, state)\n",
        "        uf = jax.random.uniform(self.update_key(), (1,), minval=0.0, maxval=1.0)[0]\n",
        "        action = jp.argmax(uf < jp.cumsum(probs))\n",
        "        return action.item()\n",
        "\n",
        "    def value(self, state):\n",
        "        return self.critic_apply(self.critic_params, state)\n",
        "\n",
        "    def update(self, sar, gamma=1.0):\n",
        "        sar['r'] = cumulative_rewards(sar['r'], gamma)\n",
        "        sar['s'] = jp.array(sar['s'])\n",
        "        sar['a'] = jp.array(sar['a'])\n",
        "\n",
        "        self.actor_opt_state, self.critic_opt_state, actor_loss, critic_loss = self.step(self.opt_t, self.actor_opt_state, self.critic_opt_state, sar)\n",
        "        self.opt_t += 1\n",
        "        self.actor_params = self.actor_get_params(self.actor_opt_state)\n",
        "        self.critic_params = self.critic_get_params(self.critic_opt_state)\n",
        "\n",
        "        return actor_loss, critic_loss\n",
        "\n"
      ],
      "execution_count": 0,
      "outputs": []
    },
    {
      "cell_type": "code",
      "metadata": {
        "id": "RESZu8SekQ_1",
        "colab_type": "code",
        "colab": {}
      },
      "source": [
        "def train(env, policy, n_episodes=10000, max_t=1000, gamma=1.0, print_every=100):\n",
        "    scores_deque = deque(maxlen=100)\n",
        "    scores = []\n",
        "    for i_episode in range(1, n_episodes+1):\n",
        "        # print(f\"Episode {i_episode}\")\n",
        "        saved_log_probs = []\n",
        "        rewards = []\n",
        "        values = []\n",
        "        sar = {key: [] for key in 'sarv'}\n",
        "        state = env.reset()\n",
        "        # print(f'State:{state}')\n",
        "        for t in range(max_t):\n",
        "            action = policy.act(state)\n",
        "            sar['s'].append(state)\n",
        "            sar['a'].append(action)\n",
        "            state, reward, done, _ = env.step(action)\n",
        "            sar['r'].append(reward)\n",
        "            rewards.append(reward)\n",
        "            if done:\n",
        "                # print(f'Done {t}')\n",
        "                break \n",
        "        scores_deque.append(sum(rewards))\n",
        "        scores.append(sum(rewards))\n",
        "        al, cl = policy.update(sar, gamma)\n",
        "        # print(f'loss {l}')\n",
        "        \n",
        "        if i_episode % print_every == 0:\n",
        "            print('Episode {}\\tAverage Score: {:.2f}'.format(i_episode, np.mean(scores_deque)))\n",
        "        if np.mean(scores_deque)>=195.0:\n",
        "            print('Environment solved in {:d} episodes!\\tAverage Score: {:.2f}'.format(i_episode-100, np.mean(scores_deque)))\n",
        "            break\n",
        "        \n",
        "    return scores\n",
        "\n",
        "def plot_scores(scores):\n",
        "    fig = plt.figure()\n",
        "    ax = fig.add_subplot(111)\n",
        "    plt.plot(np.arange(1, len(scores)+1), scores)\n",
        "    plt.ylabel('Score')\n",
        "    plt.xlabel('Episode #')\n",
        "    plt.show()\n"
      ],
      "execution_count": 0,
      "outputs": []
    },
    {
      "cell_type": "code",
      "metadata": {
        "id": "fSRRa0o1kUhT",
        "colab_type": "code",
        "outputId": "e1db62df-1081-469b-8237-4b44d207fb21",
        "colab": {
          "base_uri": "https://localhost:8080/",
          "height": 385
        }
      },
      "source": [
        "def main():\n",
        "    env = gym.make('CartPole-v0')\n",
        "    env.seed(0)\n",
        "    print('observation space:', env.observation_space)\n",
        "    print('action space:', env.action_space.n)\n",
        "    rng = jax.random.PRNGKey(0)\n",
        "    pi = Policy(rng, env.action_space.n, lr=1e-3)\n",
        "    scores = train(env, pi)\n",
        "    plot_scores(scores)\n",
        "\n",
        "if __name__ == '__main__':\n",
        "    main()"
      ],
      "execution_count": 0,
      "outputs": [
        {
          "output_type": "stream",
          "text": [
            "observation space: Box(4,)\n",
            "action space: 2\n",
            "Episode 100\tAverage Score: 86.70\n",
            "Episode 200\tAverage Score: 131.81\n",
            "Episode 300\tAverage Score: 169.60\n",
            "Environment solved in 233 episodes!\tAverage Score: 195.50\n"
          ],
          "name": "stdout"
        },
        {
          "output_type": "display_data",
          "data": {
            "image/png": "[encoded data removed]",
            "text/plain": [
              "<Figure size 432x288 with 1 Axes>"
            ]
          },
          "metadata": {
            "tags": [],
            "needs_background": "light"
          }
        }
      ]
    }
  ]
}