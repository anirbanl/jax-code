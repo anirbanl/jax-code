{
  "nbformat": 4,
  "nbformat_minor": 0,
  "metadata": {
    "colab": {
      "name": "Jax_quickstart.ipynb",
      "provenance": [],
      "collapsed_sections": []
    },
    "kernelspec": {
      "name": "python3",
      "display_name": "Python 3"
    },
    "accelerator": "GPU"
  },
  "cells": [
    {
      "cell_type": "code",
      "metadata": {
        "id": "RtChatOtz6ZK",
        "colab_type": "code",
        "colab": {}
      },
      "source": [
        "import jax.numpy as np\n",
        "from jax import grad, jit, vmap\n",
        "from jax import random"
      ],
      "execution_count": 0,
      "outputs": []
    },
    {
      "cell_type": "code",
      "metadata": {
        "id": "hb_m86Nd0Fpr",
        "colab_type": "code",
        "outputId": "ae933a8c-5718-4023-9487-9aa3515932bb",
        "colab": {
          "base_uri": "https://localhost:8080/",
          "height": 51
        }
      },
      "source": [
        "key = random.PRNGKey(0)\n",
        "x = random.normal(key, (10,))\n",
        "print(x)"
      ],
      "execution_count": 0,
      "outputs": [
        {
          "output_type": "stream",
          "text": [
            "[-0.3721109   0.26423115 -0.18252768 -0.7368197  -0.44030377 -0.1521442\n",
            " -0.67135346 -0.5908641   0.73168886  0.5673026 ]\n"
          ],
          "name": "stdout"
        }
      ]
    },
    {
      "cell_type": "code",
      "metadata": {
        "id": "cDWHrm_y0Kmx",
        "colab_type": "code",
        "outputId": "7ccf4ade-d26b-4505-d7b7-07e193a2e463",
        "colab": {
          "base_uri": "https://localhost:8080/",
          "height": 34
        }
      },
      "source": [
        "size = 3000\n",
        "x = random.normal(key, (size, size), dtype=np.float32)\n",
        "%timeit np.dot(x, x.T).block_until_ready()  # runs on the GPU"
      ],
      "execution_count": 0,
      "outputs": [
        {
          "output_type": "stream",
          "text": [
            "100 loops, best of 3: 7.09 ms per loop\n"
          ],
          "name": "stdout"
        }
      ]
    },
    {
      "cell_type": "code",
      "metadata": {
        "id": "v__zrHR90fjd",
        "colab_type": "code",
        "outputId": "741da779-a10f-4276-93e7-cc9c3c01bf2b",
        "colab": {
          "base_uri": "https://localhost:8080/",
          "height": 34
        }
      },
      "source": [
        "import numpy as onp  # original CPU-backed NumPy\n",
        "x = onp.random.normal(size=(size, size)).astype(onp.float32)\n",
        "%timeit np.dot(x, x.T).block_until_ready()"
      ],
      "execution_count": 0,
      "outputs": [
        {
          "output_type": "stream",
          "text": [
            "10 loops, best of 3: 35.2 ms per loop\n"
          ],
          "name": "stdout"
        }
      ]
    },
    {
      "cell_type": "code",
      "metadata": {
        "id": "qamu_koK0r6Q",
        "colab_type": "code",
        "outputId": "ced1893a-cdbc-41d6-d480-2536d1ce2c11",
        "colab": {
          "base_uri": "https://localhost:8080/",
          "height": 34
        }
      },
      "source": [
        "from jax import device_put\n",
        "\n",
        "x = onp.random.normal(size=(size, size)).astype(onp.float32)\n",
        "x = device_put(x)\n",
        "%timeit np.dot(x, x.T).block_until_ready()"
      ],
      "execution_count": 0,
      "outputs": [
        {
          "output_type": "stream",
          "text": [
            "100 loops, best of 3: 7.15 ms per loop\n"
          ],
          "name": "stdout"
        }
      ]
    },
    {
      "cell_type": "code",
      "metadata": {
        "id": "XEVWsGLV1Sfa",
        "colab_type": "code",
        "outputId": "032952d8-6feb-41a4-81a1-fe974af7310a",
        "colab": {
          "base_uri": "https://localhost:8080/",
          "height": 51
        }
      },
      "source": [
        "def selu(x, alpha=1.67, lmbda=1.05):\n",
        "  return lmbda * np.where(x > 0, x, alpha * np.exp(x) - alpha)\n",
        "\n",
        "x = random.normal(key, (1000000,))\n",
        "%timeit selu(x).block_until_ready()"
      ],
      "execution_count": 0,
      "outputs": [
        {
          "output_type": "stream",
          "text": [
            "The slowest run took 271.46 times longer than the fastest. This could mean that an intermediate result is being cached.\n",
            "1 loop, best of 3: 1.48 ms per loop\n"
          ],
          "name": "stdout"
        }
      ]
    },
    {
      "cell_type": "code",
      "metadata": {
        "id": "7cty9LN71WaJ",
        "colab_type": "code",
        "outputId": "f0535e72-6399-4a80-dd13-df9ea9fd61b9",
        "colab": {
          "base_uri": "https://localhost:8080/",
          "height": 51
        }
      },
      "source": [
        "selu_jit = jit(selu)\n",
        "%timeit selu_jit(x).block_until_ready()"
      ],
      "execution_count": 0,
      "outputs": [
        {
          "output_type": "stream",
          "text": [
            "The slowest run took 525.91 times longer than the fastest. This could mean that an intermediate result is being cached.\n",
            "1000 loops, best of 3: 217 µs per loop\n"
          ],
          "name": "stdout"
        }
      ]
    },
    {
      "cell_type": "code",
      "metadata": {
        "id": "j2OeEDI11nV5",
        "colab_type": "code",
        "outputId": "4a4af127-1fd1-44b7-e328-dc9c54c6ba40",
        "colab": {
          "base_uri": "https://localhost:8080/",
          "height": 34
        }
      },
      "source": [
        "def sum_logistic(x):\n",
        "  return np.sum(1.0 / (1.0 + np.exp(-x)))\n",
        "\n",
        "x_small = np.arange(3.)\n",
        "derivative_fn = grad(sum_logistic)\n",
        "print(derivative_fn(x_small))"
      ],
      "execution_count": 0,
      "outputs": [
        {
          "output_type": "stream",
          "text": [
            "[0.25       0.19661197 0.10499357]\n"
          ],
          "name": "stdout"
        }
      ]
    },
    {
      "cell_type": "code",
      "metadata": {
        "id": "-SnNzX0q1zBZ",
        "colab_type": "code",
        "outputId": "2d4a59b6-174f-4b8e-e2f9-753ac1e6dcc3",
        "colab": {
          "base_uri": "https://localhost:8080/",
          "height": 68
        }
      },
      "source": [
        "from jax import jacfwd, jacrev\n",
        "def sum_logistic(x):\n",
        "  return 1.0 / (1.0 + np.exp(-x))\n",
        "\n",
        "x_small = np.arange(3.)\n",
        "derivative_fn = jacrev(sum_logistic)\n",
        "print(derivative_fn(x_small))"
      ],
      "execution_count": 0,
      "outputs": [
        {
          "output_type": "stream",
          "text": [
            "[[ 0.25       -0.         -0.        ]\n",
            " [-0.          0.19661197 -0.        ]\n",
            " [-0.         -0.          0.10499357]]\n"
          ],
          "name": "stdout"
        }
      ]
    },
    {
      "cell_type": "code",
      "metadata": {
        "id": "4JCsulwY2Lh5",
        "colab_type": "code",
        "outputId": "c90cac00-faf5-4177-b210-b1d11791118a",
        "colab": {
          "base_uri": "https://localhost:8080/",
          "height": 170
        }
      },
      "source": [
        "mat = random.normal(key, (150, 100))\n",
        "batched_x = random.normal(key, (10, 100))\n",
        "\n",
        "def apply_matrix(v):\n",
        "  return np.dot(mat, v)\n",
        "\n",
        "def naively_batched_apply_matrix(v_batched):\n",
        "  return np.stack([apply_matrix(v) for v in v_batched])\n",
        "\n",
        "print('Naively batched')\n",
        "%timeit naively_batched_apply_matrix(batched_x).block_until_ready()\n",
        "\n",
        "@jit\n",
        "def batched_apply_matrix(v_batched):\n",
        "  return np.dot(v_batched, mat.T)\n",
        "\n",
        "print('Manually batched')\n",
        "%timeit batched_apply_matrix(batched_x).block_until_ready()\n",
        "\n",
        "@jit\n",
        "def vmap_batched_apply_matrix(v_batched):\n",
        "  return vmap(apply_matrix)(v_batched)\n",
        "\n",
        "print('Auto-vectorized with vmap')\n",
        "%timeit vmap_batched_apply_matrix(batched_x).block_until_ready()"
      ],
      "execution_count": 0,
      "outputs": [
        {
          "output_type": "stream",
          "text": [
            "Naively batched\n",
            "The slowest run took 31.89 times longer than the fastest. This could mean that an intermediate result is being cached.\n",
            "100 loops, best of 3: 4.34 ms per loop\n",
            "Manually batched\n",
            "The slowest run took 945.08 times longer than the fastest. This could mean that an intermediate result is being cached.\n",
            "10000 loops, best of 3: 150 µs per loop\n",
            "Auto-vectorized with vmap\n",
            "The slowest run took 145.28 times longer than the fastest. This could mean that an intermediate result is being cached.\n",
            "10000 loops, best of 3: 131 µs per loop\n"
          ],
          "name": "stdout"
        }
      ]
    }
  ]
}