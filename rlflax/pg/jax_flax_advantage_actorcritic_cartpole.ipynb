{
 "cells": [
  {
   "cell_type": "markdown",
   "metadata": {
    "colab_type": "text",
    "id": "view-in-github"
   },
   "source": [
    "<a href=\"https://colab.research.google.com/github/anirbanl/jax-code/blob/master/rlflax/jax_flax_advantage_actorcritic_cartpole.ipynb\" target=\"_parent\"><img src=\"https://colab.research.google.com/assets/colab-badge.svg\" alt=\"Open In Colab\"/></a>"
   ]
  },
  {
   "cell_type": "code",
   "execution_count": 1,
   "metadata": {
    "colab": {
     "base_uri": "https://localhost:8080/"
    },
    "id": "rV8UEeXdZN-7",
    "outputId": "8da3c078-5309-4485-f1cd-1458ca71aeb8"
   },
   "outputs": [
    {
     "name": "stdout",
     "output_type": "stream",
     "text": [
      "Requirement already satisfied: jax in /usr/local/lib/python3.7/dist-packages (0.2.13)\n",
      "Requirement already satisfied: jaxlib in /usr/local/lib/python3.7/dist-packages (0.1.66+cuda110)\n",
      "Collecting flax\n",
      "\u001b[?25l  Downloading https://files.pythonhosted.org/packages/f6/21/21ca1f4831ac24646578d2545c4db9a8369b9da4a4b7dcf067feee312b45/flax-0.3.4-py3-none-any.whl (183kB)\n",
      "\u001b[K     |████████████████████████████████| 184kB 5.1MB/s \n",
      "\u001b[?25hRequirement already satisfied: absl-py in /usr/local/lib/python3.7/dist-packages (from jax) (0.12.0)\n",
      "Requirement already satisfied: opt-einsum in /usr/local/lib/python3.7/dist-packages (from jax) (3.3.0)\n",
      "Requirement already satisfied: numpy>=1.12 in /usr/local/lib/python3.7/dist-packages (from jax) (1.19.5)\n",
      "Requirement already satisfied: scipy in /usr/local/lib/python3.7/dist-packages (from jaxlib) (1.4.1)\n",
      "Requirement already satisfied: flatbuffers in /usr/local/lib/python3.7/dist-packages (from jaxlib) (1.12)\n",
      "Requirement already satisfied: msgpack in /usr/local/lib/python3.7/dist-packages (from flax) (1.0.2)\n",
      "Collecting optax\n",
      "\u001b[?25l  Downloading https://files.pythonhosted.org/packages/ca/04/464fa1d12562d191196f2f7f8112d65e22eaaa9a7e2b599f298aeba2ce27/optax-0.0.8-py3-none-any.whl (113kB)\n",
      "\u001b[K     |████████████████████████████████| 122kB 45.3MB/s \n",
      "\u001b[?25hRequirement already satisfied: matplotlib in /usr/local/lib/python3.7/dist-packages (from flax) (3.2.2)\n",
      "Requirement already satisfied: six in /usr/local/lib/python3.7/dist-packages (from absl-py->jax) (1.15.0)\n",
      "Collecting chex>=0.0.4\n",
      "\u001b[?25l  Downloading https://files.pythonhosted.org/packages/f5/b9/445eb59ec23249acffc5322c79b07e20b12dbff45b9c1da6cdae9e947685/chex-0.0.7-py3-none-any.whl (52kB)\n",
      "\u001b[K     |████████████████████████████████| 61kB 10.1MB/s \n",
      "\u001b[?25hRequirement already satisfied: python-dateutil>=2.1 in /usr/local/lib/python3.7/dist-packages (from matplotlib->flax) (2.8.1)\n",
      "Requirement already satisfied: pyparsing!=2.0.4,!=2.1.2,!=2.1.6,>=2.0.1 in /usr/local/lib/python3.7/dist-packages (from matplotlib->flax) (2.4.7)\n",
      "Requirement already satisfied: kiwisolver>=1.0.1 in /usr/local/lib/python3.7/dist-packages (from matplotlib->flax) (1.3.1)\n",
      "Requirement already satisfied: cycler>=0.10 in /usr/local/lib/python3.7/dist-packages (from matplotlib->flax) (0.10.0)\n",
      "Requirement already satisfied: dm-tree>=0.1.5 in /usr/local/lib/python3.7/dist-packages (from chex>=0.0.4->optax->flax) (0.1.6)\n",
      "Requirement already satisfied: toolz>=0.9.0 in /usr/local/lib/python3.7/dist-packages (from chex>=0.0.4->optax->flax) (0.11.1)\n",
      "Installing collected packages: chex, optax, flax\n",
      "Successfully installed chex-0.0.7 flax-0.3.4 optax-0.0.8\n"
     ]
    }
   ],
   "source": [
    "!pip install jax jaxlib flax"
   ]
  },
  {
   "cell_type": "code",
   "execution_count": 2,
   "metadata": {
    "id": "fI3MahhRZTQK"
   },
   "outputs": [],
   "source": [
    "import gym\n",
    "gym.logger.set_level(40) # suppress warnings (please remove if gives error)\n",
    "import numpy as np\n",
    "from collections import deque\n",
    "import matplotlib.pyplot as plt\n",
    "%matplotlib inline\n",
    "import jax\n",
    "import jax.numpy as jp\n",
    "from jax.ops import index, index_add, index_update\n",
    "from jax import jit, grad, vmap, random, jacrev, jacobian, jacfwd, value_and_grad\n",
    "from functools import partial\n",
    "from jax.tree_util import tree_multimap  # Element-wise manipulation of collections of numpy arrays\n",
    "from flax import linen as nn           # The Linen API\n",
    "from flax.training import train_state  # Useful dataclass to keep train state\n",
    "import optax                           # Optimizers\n",
    "from typing import Sequence"
   ]
  },
  {
   "cell_type": "code",
   "execution_count": 3,
   "metadata": {
    "colab": {
     "base_uri": "https://localhost:8080/"
    },
    "id": "PDDRxdIwZY4P",
    "outputId": "fe0bd138-a15f-4caa-8423-55f380c379ff"
   },
   "outputs": [
    {
     "name": "stdout",
     "output_type": "stream",
     "text": [
      "observation space: Box(-3.4028234663852886e+38, 3.4028234663852886e+38, (4,), float32)\n",
      "action space: Discrete(2)\n"
     ]
    }
   ],
   "source": [
    "env = gym.make('CartPole-v0')\n",
    "env.seed(0)\n",
    "print('observation space:', env.observation_space)\n",
    "print('action space:', env.action_space)"
   ]
  },
  {
   "cell_type": "code",
   "execution_count": 4,
   "metadata": {
    "id": "GLCg4oCpZnao"
   },
   "outputs": [],
   "source": [
    "def one_hot(x, k, dtype=np.float32):\n",
    "    \"\"\"Create a one-hot encoding of x of size k.\"\"\"\n",
    "    return jp.array(x[:, None] == jp.arange(k), dtype)\n",
    "\n",
    "def cumulative_returns(rewards, gamma):\n",
    "    returns = jp.zeros(len(rewards))\n",
    "    next_return = 0 # 0 because we start at the last timestep\n",
    "    for t in reversed(range(0, len(rewards))):\n",
    "        next_return = rewards[t] + gamma * next_return\n",
    "        returns = index_update(returns, index[t], next_return)\n",
    "    # normalize for better statistical properties\n",
    "    returns = (returns - returns.mean()) / (returns.std() + jp.finfo(jp.float32).eps)\n",
    "    return returns\n",
    "\n",
    "class Policy:\n",
    "    def __init__(self, rng, s_size=4, a_size=2, lr=1e-3):\n",
    "        super(Policy, self).__init__()\n",
    "        self.key = rng\n",
    "\n",
    "        class Actor(nn.Module):\n",
    "            features: Sequence[int]\n",
    "\n",
    "            @nn.compact\n",
    "            def __call__(self, x):\n",
    "                x = nn.Dense(self.features[0])(x)\n",
    "                x = nn.Dense(self.features[1])(x)\n",
    "                x = nn.Dense(self.features[2])(x)\n",
    "                x = nn.softmax(x)\n",
    "                return x\n",
    "\n",
    "        self.actor = Actor(features=[128, 256, a_size])\n",
    "\n",
    "        class Critic(nn.Module):\n",
    "            features: Sequence[int]\n",
    "\n",
    "            @nn.compact\n",
    "            def __call__(self, x):\n",
    "                x = nn.Dense(self.features[0])(x)\n",
    "                x = nn.Dense(self.features[1])(x)\n",
    "                x = nn.Dense(self.features[2])(x)\n",
    "                return x\n",
    "\n",
    "        self.critic = Critic(features=[128, 256, 1])\n",
    "\n",
    "        def create_train_state(rng, model, learning_rate, s_size, a_size):\n",
    "            \"\"\"Creates initial `TrainState`.\"\"\"\n",
    "            params = model.init(rng, jp.ones((s_size, )))#['params']\n",
    "            tx = optax.adam(learning_rate)\n",
    "            return train_state.TrainState.create(\n",
    "                apply_fn=model.apply, params=params, tx=tx)\n",
    "\n",
    "        self.actor_ts = create_train_state(rng, self.actor, lr, s_size, a_size)\n",
    "        self.critic_ts = create_train_state(rng, self.critic, lr, s_size, a_size)\n",
    "\n",
    "        @jit\n",
    "        def train_step(actor_ts, critic_ts, sar, gamma=1.0):\n",
    "            \"\"\"Train for a single step.\"\"\"\n",
    "            sar['r'] = jp.array(sar['r'])\n",
    "            sar['s'] = jp.array(sar['s'])\n",
    "            sar['a'] = jp.array(sar['a'])\n",
    "\n",
    "            def loss_fn(actor_params, critic_params):\n",
    "                one_hot_actions = one_hot(sar['a'], a_size)\n",
    "                probs = actor_ts.apply_fn(actor_params, sar['s'])\n",
    "                values = critic_ts.apply_fn(critic_params, sar['s'])\n",
    "                advantage = jax.lax.stop_gradient(cumulative_returns(sar['r'], gamma)) - values.reshape(sar['r'].shape)\n",
    "                actor_loss = jp.einsum('ij,i->',- one_hot_actions * jp.log(probs), jax.lax.stop_gradient(advantage))\n",
    "                critic_loss = jp.mean(advantage**2)\n",
    "                return actor_loss, critic_loss\n",
    "\n",
    "            actor_loss = lambda x: loss_fn(x, critic_ts.params)[0]\n",
    "            critic_loss = lambda y: loss_fn(actor_ts.params, y)[1]\n",
    "            al, ag = value_and_grad(actor_loss)(actor_ts.params)\n",
    "            cl, cg = value_and_grad(critic_loss)(critic_ts.params)\n",
    "            return actor_ts.apply_gradients(grads=ag), critic_ts.apply_gradients(grads=cg), al, cl\n",
    "\n",
    "        self.train_fn = train_step\n",
    "\n",
    "\n",
    "    def act(self, state):\n",
    "        probs = self.actor_ts.apply_fn(self.actor_ts.params, state)\n",
    "        self.key, _ = jax.random.split(self.key)\n",
    "        uf = jax.random.uniform(self.key, (1,), minval=0.0, maxval=1.0)[0]\n",
    "        action = jp.argmax(uf < jp.cumsum(probs))\n",
    "        return action.item()\n"
   ]
  },
  {
   "cell_type": "code",
   "execution_count": 5,
   "metadata": {
    "id": "lHQL6vcBbZP-"
   },
   "outputs": [],
   "source": [
    "def train(env, policy, n_episodes=10000, max_t=1000, gamma=1.0, print_every=100):\n",
    "    scores_deque = deque(maxlen=100)\n",
    "    scores = []\n",
    "    for i_episode in range(1, n_episodes+1):\n",
    "        # print(f\"Episode {i_episode}\")\n",
    "        saved_log_probs = []\n",
    "        rewards = []\n",
    "        sar = {key: [] for key in 'sar'}\n",
    "        state = env.reset()\n",
    "        # print(f'State:{state}')\n",
    "        for t in range(max_t):\n",
    "            action = policy.act(state)\n",
    "            # print(f'Action:{action}')\n",
    "            sar['s'].append(state)\n",
    "            sar['a'].append(action)\n",
    "            state, reward, done, _ = env.step(action)\n",
    "            sar['r'].append(reward)\n",
    "            rewards.append(reward)\n",
    "            if done:\n",
    "                # print(f'Done {t}')\n",
    "                break \n",
    "        scores_deque.append(sum(rewards))\n",
    "        scores.append(sum(rewards))\n",
    "        policy.actor_ts, policy.critic_ts, al, cl = policy.train_fn(policy.actor_ts, policy.critic_ts, sar, gamma)\n",
    "        # print(f'loss {l}')\n",
    "        \n",
    "        if i_episode % print_every == 0:\n",
    "            print('Episode {}\\tAverage Score: {:.2f}'.format(i_episode, np.mean(scores_deque)))\n",
    "        if np.mean(scores_deque)>=195.0:\n",
    "            print('Environment solved in {:d} episodes!\\tAverage Score: {:.2f}'.format(i_episode-100, np.mean(scores_deque)))\n",
    "            break\n",
    "        \n",
    "    return scores\n",
    "\n",
    "def plot_scores(scores):\n",
    "    fig = plt.figure()\n",
    "    ax = fig.add_subplot(111)\n",
    "    plt.plot(np.arange(1, len(scores)+1), scores)\n",
    "    plt.ylabel('Score')\n",
    "    plt.xlabel('Episode #')\n",
    "    plt.show()"
   ]
  },
  {
   "cell_type": "code",
   "execution_count": 6,
   "metadata": {
    "colab": {
     "base_uri": "https://localhost:8080/",
     "height": 350
    },
    "id": "QWmVrQ9ObgUz",
    "outputId": "608838e1-eb4b-4434-ba97-5560288c9ca0"
   },
   "outputs": [
    {
     "name": "stdout",
     "output_type": "stream",
     "text": [
      "observation space: Box(-3.4028234663852886e+38, 3.4028234663852886e+38, (4,), float32)\n",
      "action space: 2\n",
      "Episode 100\tAverage Score: 164.73\n",
      "Environment solved in 54 episodes!\tAverage Score: 195.43\n"
     ]
    },
    {
     "data": {
      "image/png": "[encoded data removed]",
      "text/plain": [
       "<Figure size 432x288 with 1 Axes>"
      ]
     },
     "metadata": {
      "needs_background": "light",
      "tags": []
     },
     "output_type": "display_data"
    }
   ],
   "source": [
    "def main():\n",
    "    env = gym.make('CartPole-v0')\n",
    "    env.seed(0)\n",
    "    env.action_space.seed(0)\n",
    "    print('observation space:', env.observation_space)\n",
    "    print('action space:', env.action_space.n)\n",
    "    rng = jax.random.PRNGKey(0)\n",
    "    pi = Policy(rng, lr=1e-3)\n",
    "    scores = train(env, pi)\n",
    "    plot_scores(scores)\n",
    "\n",
    "if __name__ == '__main__':\n",
    "    main()"
   ]
  }
 ],
 "metadata": {
  "accelerator": "GPU",
  "colab": {
   "collapsed_sections": [],
   "include_colab_link": true,
   "name": "jax_flax_advantage_actorcritic_cartpole.ipynb",
   "provenance": []
  },
  "kernelspec": {
   "display_name": "Python 3",
   "language": "python",
   "name": "python3"
  },
  "language_info": {
   "codemirror_mode": {
    "name": "ipython",
    "version": 3
   },
   "file_extension": ".py",
   "mimetype": "text/x-python",
   "name": "python",
   "nbconvert_exporter": "python",
   "pygments_lexer": "ipython3",
   "version": "3.9.5"
  }
 },
 "nbformat": 4,
 "nbformat_minor": 1
}
