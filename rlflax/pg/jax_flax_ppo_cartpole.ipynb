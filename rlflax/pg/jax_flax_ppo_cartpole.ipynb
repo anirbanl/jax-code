{
 "cells": [
  {
   "cell_type": "markdown",
   "metadata": {
    "colab_type": "text",
    "id": "view-in-github"
   },
   "source": [
    "<a href=\"https://colab.research.google.com/github/anirbanl/jax-code/blob/master/rlflax/jax_flax_ppo_cartpole.ipynb\" target=\"_parent\"><img src=\"https://colab.research.google.com/assets/colab-badge.svg\" alt=\"Open In Colab\"/></a>"
   ]
  },
  {
   "cell_type": "markdown",
   "metadata": {
    "id": "XXgw_3DAr0he"
   },
   "source": [
    "Based on two sources:\n",
    "1. https://github.com/bentrevett/pytorch-rl/blob/master/5%20-%20Proximal%20Policy%20Optimization%20(PPO)%20%5BCartPole%5D.ipynb\n",
    "2. https://github.com/higgsfield/RL-Adventure-2/blob/master/3.ppo.ipynb"
   ]
  },
  {
   "cell_type": "code",
   "execution_count": 7,
   "metadata": {
    "colab": {
     "base_uri": "https://localhost:8080/"
    },
    "id": "rV8UEeXdZN-7",
    "outputId": "e8695283-073f-4e1a-867f-582ab9807154"
   },
   "outputs": [
    {
     "name": "stdout",
     "output_type": "stream",
     "text": [
      "Requirement already satisfied: jax in /usr/local/lib/python3.7/dist-packages (0.2.13)\n",
      "Requirement already satisfied: jaxlib in /usr/local/lib/python3.7/dist-packages (0.1.66+cuda110)\n",
      "Requirement already satisfied: flax in /usr/local/lib/python3.7/dist-packages (0.3.4)\n",
      "Requirement already satisfied: opt-einsum in /usr/local/lib/python3.7/dist-packages (from jax) (3.3.0)\n",
      "Requirement already satisfied: numpy>=1.12 in /usr/local/lib/python3.7/dist-packages (from jax) (1.19.5)\n",
      "Requirement already satisfied: absl-py in /usr/local/lib/python3.7/dist-packages (from jax) (0.12.0)\n",
      "Requirement already satisfied: flatbuffers in /usr/local/lib/python3.7/dist-packages (from jaxlib) (1.12)\n",
      "Requirement already satisfied: scipy in /usr/local/lib/python3.7/dist-packages (from jaxlib) (1.4.1)\n",
      "Requirement already satisfied: matplotlib in /usr/local/lib/python3.7/dist-packages (from flax) (3.2.2)\n",
      "Requirement already satisfied: optax in /usr/local/lib/python3.7/dist-packages (from flax) (0.0.8)\n",
      "Requirement already satisfied: msgpack in /usr/local/lib/python3.7/dist-packages (from flax) (1.0.2)\n",
      "Requirement already satisfied: six in /usr/local/lib/python3.7/dist-packages (from absl-py->jax) (1.15.0)\n",
      "Requirement already satisfied: kiwisolver>=1.0.1 in /usr/local/lib/python3.7/dist-packages (from matplotlib->flax) (1.3.1)\n",
      "Requirement already satisfied: python-dateutil>=2.1 in /usr/local/lib/python3.7/dist-packages (from matplotlib->flax) (2.8.1)\n",
      "Requirement already satisfied: cycler>=0.10 in /usr/local/lib/python3.7/dist-packages (from matplotlib->flax) (0.10.0)\n",
      "Requirement already satisfied: pyparsing!=2.0.4,!=2.1.2,!=2.1.6,>=2.0.1 in /usr/local/lib/python3.7/dist-packages (from matplotlib->flax) (2.4.7)\n",
      "Requirement already satisfied: chex>=0.0.4 in /usr/local/lib/python3.7/dist-packages (from optax->flax) (0.0.7)\n",
      "Requirement already satisfied: toolz>=0.9.0 in /usr/local/lib/python3.7/dist-packages (from chex>=0.0.4->optax->flax) (0.11.1)\n",
      "Requirement already satisfied: dm-tree>=0.1.5 in /usr/local/lib/python3.7/dist-packages (from chex>=0.0.4->optax->flax) (0.1.6)\n"
     ]
    }
   ],
   "source": [
    "!pip install jax jaxlib flax"
   ]
  },
  {
   "cell_type": "code",
   "execution_count": 8,
   "metadata": {
    "id": "fI3MahhRZTQK"
   },
   "outputs": [],
   "source": [
    "import gym\n",
    "gym.logger.set_level(40) # suppress warnings (please remove if gives error)\n",
    "import numpy as np\n",
    "from collections import deque\n",
    "import matplotlib.pyplot as plt\n",
    "%matplotlib inline\n",
    "import jax\n",
    "import jax.numpy as jp\n",
    "from jax.ops import index, index_add, index_update\n",
    "from jax import jit, grad, vmap, random, jacrev, jacobian, jacfwd, value_and_grad\n",
    "from functools import partial\n",
    "from jax.tree_util import tree_multimap  # Element-wise manipulation of collections of numpy arrays\n",
    "from flax import linen as nn           # The Linen API\n",
    "from flax.training import train_state  # Useful dataclass to keep train state\n",
    "import optax                           # Optimizers\n",
    "from typing import Sequence"
   ]
  },
  {
   "cell_type": "code",
   "execution_count": 9,
   "metadata": {
    "colab": {
     "base_uri": "https://localhost:8080/"
    },
    "id": "PDDRxdIwZY4P",
    "outputId": "3dd24f84-bacd-44b3-fcd3-022eed3a9861"
   },
   "outputs": [
    {
     "name": "stdout",
     "output_type": "stream",
     "text": [
      "observation space: Box(-3.4028234663852886e+38, 3.4028234663852886e+38, (4,), float32)\n",
      "action space: Discrete(2)\n"
     ]
    }
   ],
   "source": [
    "env = gym.make('CartPole-v0')\n",
    "env.seed(0)\n",
    "print('observation space:', env.observation_space)\n",
    "print('action space:', env.action_space)"
   ]
  },
  {
   "cell_type": "code",
   "execution_count": 10,
   "metadata": {
    "id": "GLCg4oCpZnao"
   },
   "outputs": [],
   "source": [
    "def one_hot(x, k, dtype=np.float32):\n",
    "    \"\"\"Create a one-hot encoding of x of size k.\"\"\"\n",
    "    return jp.array(x[:, None] == jp.arange(k), dtype)\n",
    "\n",
    "def calculate_advantages(rewards, values, gamma, lamda):\n",
    "    advantages = []\n",
    "    advantage = 0\n",
    "    next_value = 0\n",
    "    \n",
    "    for r, v in zip(reversed(rewards), reversed(values)):\n",
    "        td_error = r + next_value * gamma - v\n",
    "        advantage = td_error + advantage * gamma * lamda\n",
    "        next_value = v\n",
    "        advantages.insert(0, advantage)\n",
    "    advantages = jp.array(advantages)\n",
    "    advantages = (advantages - advantages.mean()) / advantages.std()\n",
    "        \n",
    "    return advantages\n",
    "\n",
    "class Policy:\n",
    "    def __init__(self, rng, s_size=4, a_size=2, lr=1e-3):\n",
    "        super(Policy, self).__init__()\n",
    "        self.key = rng\n",
    "\n",
    "        class Actor(nn.Module):\n",
    "            features: Sequence[int]\n",
    "\n",
    "            @nn.compact\n",
    "            def __call__(self, x):\n",
    "                x = nn.Dense(self.features[0])(x)\n",
    "                x = nn.Dense(self.features[1])(x)\n",
    "                x = nn.Dense(self.features[2])(x)\n",
    "                x = nn.softmax(x)\n",
    "                return x\n",
    "\n",
    "        self.actor = Actor(features=[128, 256, a_size])\n",
    "\n",
    "        class Critic(nn.Module):\n",
    "            features: Sequence[int]\n",
    "\n",
    "            @nn.compact\n",
    "            def __call__(self, x):\n",
    "                x = nn.Dense(self.features[0])(x)\n",
    "                x = nn.Dense(self.features[1])(x)\n",
    "                x = nn.Dense(self.features[2])(x)\n",
    "                return x\n",
    "\n",
    "        self.critic = Critic(features=[128, 256, 1])\n",
    "\n",
    "        def create_train_state(rng, model, learning_rate, s_size, a_size):\n",
    "            \"\"\"Creates initial `TrainState`.\"\"\"\n",
    "            params = model.init(rng, jp.ones((s_size, )))#['params']\n",
    "            tx = optax.adam(learning_rate)\n",
    "            return train_state.TrainState.create(\n",
    "                apply_fn=model.apply, params=params, tx=tx)\n",
    "\n",
    "        self.actor_ts = create_train_state(rng, self.actor, lr, s_size, a_size)\n",
    "        self.critic_ts = create_train_state(rng, self.critic, lr, s_size, a_size)\n",
    "\n",
    "        @jit\n",
    "        def train_step(actor_ts, critic_ts, sar, gamma=1.0, lamda=0.99, clip_param=0.2):\n",
    "            \"\"\"Train for a single step.\"\"\"\n",
    "            sar['r'] = jp.array(sar['r'])\n",
    "            sar['s'] = jp.array(sar['s'])\n",
    "            sar['a'] = jp.array(sar['a'])\n",
    "            sar['l'] = jp.array(sar['l'])\n",
    "\n",
    "            def loss_fn(actor_params, critic_params):\n",
    "                new_log_probs = jp.log(actor_ts.apply_fn(actor_params, sar['s']))\n",
    "                new_log_probs_actions = jp.take_along_axis(new_log_probs, sar['a'][..., None], axis=-1).squeeze(axis=-1)\n",
    "                policy_ratio = jp.exp(new_log_probs_actions-jax.lax.stop_gradient(sar['l']))\n",
    "\n",
    "                values = critic_ts.apply_fn(critic_params, sar['s'])\n",
    "                advantage = calculate_advantages(sar['r'], values.reshape(sar['r'].shape), gamma, lamda)\n",
    "                critic_advantage = jax.lax.stop_gradient(advantage + values) - values\n",
    "                \n",
    "                actor_loss1 = policy_ratio * jax.lax.stop_gradient(advantage)\n",
    "                actor_loss2 = jp.clip(policy_ratio, 1 - clip_param, 1 + clip_param) * jax.lax.stop_gradient(advantage)\n",
    "                actor_loss = - jp.mean(jp.minimum(actor_loss1, actor_loss2))\n",
    "                critic_loss = jp.mean(critic_advantage**2)\n",
    "                return actor_loss, critic_loss\n",
    "\n",
    "            actor_loss = lambda x: loss_fn(x, critic_ts.params)[0]\n",
    "            critic_loss = lambda y: loss_fn(actor_ts.params, y)[1]\n",
    "            al, ag = value_and_grad(actor_loss)(actor_ts.params)\n",
    "            cl, cg = value_and_grad(critic_loss)(critic_ts.params)\n",
    "            return actor_ts.apply_gradients(grads=ag), critic_ts.apply_gradients(grads=cg), al, cl\n",
    "\n",
    "        self.train_fn = train_step\n",
    "\n",
    "\n",
    "    def act(self, state):\n",
    "        probs = self.actor_ts.apply_fn(self.actor_ts.params, state)\n",
    "        self.key, _ = jax.random.split(self.key)\n",
    "        uf = jax.random.uniform(self.key, (1,), minval=0.0, maxval=1.0)[0]\n",
    "        action = jp.argmax(uf < jp.cumsum(probs))\n",
    "        return action.item(), jp.log(probs[action.item()])\n"
   ]
  },
  {
   "cell_type": "code",
   "execution_count": 11,
   "metadata": {
    "id": "lHQL6vcBbZP-"
   },
   "outputs": [],
   "source": [
    "def train(env, policy, ppo_epochs=4, clip_param=0.2, n_episodes=10000, max_t=1000, gamma=1.0, lamda=0.99, print_every=100):\n",
    "    scores_deque = deque(maxlen=100)\n",
    "    scores = []\n",
    "    for i_episode in range(1, n_episodes+1):\n",
    "        # print(f\"Episode {i_episode}\")\n",
    "        saved_log_probs = []\n",
    "        rewards = []\n",
    "        sar = {key: [] for key in 'sarl'}\n",
    "        state = env.reset()\n",
    "        # print(f'State:{state}')\n",
    "        for t in range(max_t):\n",
    "            action, log_pa = policy.act(state)\n",
    "            # print(f'Action:{action}')\n",
    "            sar['s'].append(state)\n",
    "            sar['a'].append(action)\n",
    "            sar['l'].append(log_pa.item())\n",
    "            # print(f\"Action:{len(sar['a'])}, Log_prob:{len(sar['l'])}\")\n",
    "            # print(f\"Action:{sar['a'][-1]}, Log_prob:{sar['l'][-1]}\")\n",
    "            # print(f\"Action:{sar['a'][-1]}, Log_prob:{log_pa}\")\n",
    "            state, reward, done, _ = env.step(action)\n",
    "            sar['r'].append(reward)\n",
    "            rewards.append(reward)\n",
    "            if done:\n",
    "                # print(f'Done {t}')\n",
    "                break \n",
    "        scores_deque.append(sum(rewards))\n",
    "        scores.append(sum(rewards))\n",
    "        # policy.actor_ts, policy.critic_ts, al, cl = policy.train_fn(policy.actor_ts, policy.critic_ts, sar, gamma, lamda)\n",
    "        # print(f'loss {l}')\n",
    "        for _ in range(ppo_epochs):\n",
    "            policy.actor_ts, policy.critic_ts, al, cl = policy.train_fn(policy.actor_ts, policy.critic_ts, sar, gamma, lamda, clip_param)\n",
    "        \n",
    "        if i_episode % print_every == 0:\n",
    "            print('Episode {}\\tAverage Score: {:.2f}'.format(i_episode, np.mean(scores_deque)))\n",
    "        if np.mean(scores_deque)>=195.0:\n",
    "            print('Environment solved in {:d} episodes!\\tAverage Score: {:.2f}'.format(i_episode-100, np.mean(scores_deque)))\n",
    "            break\n",
    "        \n",
    "    return scores\n",
    "\n",
    "def plot_scores(scores):\n",
    "    fig = plt.figure()\n",
    "    ax = fig.add_subplot(111)\n",
    "    plt.plot(np.arange(1, len(scores)+1), scores)\n",
    "    plt.ylabel('Score')\n",
    "    plt.xlabel('Episode #')\n",
    "    plt.show()"
   ]
  },
  {
   "cell_type": "code",
   "execution_count": 12,
   "metadata": {
    "colab": {
     "base_uri": "https://localhost:8080/",
     "height": 350
    },
    "id": "QWmVrQ9ObgUz",
    "outputId": "a116979a-bccb-41e5-ca22-f89aa287d6ae"
   },
   "outputs": [
    {
     "name": "stdout",
     "output_type": "stream",
     "text": [
      "observation space: Box(-3.4028234663852886e+38, 3.4028234663852886e+38, (4,), float32)\n",
      "action space: 2\n",
      "Episode 100\tAverage Score: 178.13\n",
      "Environment solved in 25 episodes!\tAverage Score: 195.21\n"
     ]
    },
    {
     "data": {
      "image/png": "[encoded data removed]",
      "text/plain": [
       "<Figure size 432x288 with 1 Axes>"
      ]
     },
     "metadata": {
      "needs_background": "light",
      "tags": []
     },
     "output_type": "display_data"
    }
   ],
   "source": [
    "def main():\n",
    "    env = gym.make('CartPole-v0')\n",
    "    env.seed(0)\n",
    "    env.action_space.seed(0)\n",
    "    print('observation space:', env.observation_space)\n",
    "    print('action space:', env.action_space.n)\n",
    "    rng = jax.random.PRNGKey(0)\n",
    "    pi = Policy(rng, lr=1e-3)\n",
    "    scores = train(env, pi)\n",
    "    plot_scores(scores)\n",
    "\n",
    "if __name__ == '__main__':\n",
    "    main()"
   ]
  }
 ],
 "metadata": {
  "accelerator": "GPU",
  "colab": {
   "authorship_tag": "ABX9TyMGrE9f62A/eSBzddTHbeeB",
   "collapsed_sections": [],
   "include_colab_link": true,
   "name": "jax_flax_ppo_cartpole.ipynb",
   "provenance": []
  },
  "kernelspec": {
   "display_name": "Python 3",
   "language": "python",
   "name": "python3"
  },
  "language_info": {
   "codemirror_mode": {
    "name": "ipython",
    "version": 3
   },
   "file_extension": ".py",
   "mimetype": "text/x-python",
   "name": "python",
   "nbconvert_exporter": "python",
   "pygments_lexer": "ipython3",
   "version": "3.9.5"
  }
 },
 "nbformat": 4,
 "nbformat_minor": 1
}
