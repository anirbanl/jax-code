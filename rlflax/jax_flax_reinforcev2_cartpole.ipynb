{
  "nbformat": 4,
  "nbformat_minor": 0,
  "metadata": {
    "colab": {
      "name": "Copy of jax-flax-reinforce-cartpole.ipynb",
      "provenance": [],
      "collapsed_sections": [],
      "authorship_tag": "ABX9TyOEaQtSb75y8WEHDH2Whslw",
      "include_colab_link": true
    },
    "kernelspec": {
      "name": "python3",
      "display_name": "Python 3"
    },
    "language_info": {
      "name": "python"
    },
    "accelerator": "GPU"
  },
  "cells": [
    {
      "cell_type": "markdown",
      "metadata": {
        "id": "view-in-github",
        "colab_type": "text"
      },
      "source": [
        "<a href=\"https://colab.research.google.com/github/anirbanl/jax-code/blob/master/rlflax/jax_flax_reinforcev2_cartpole.ipynb\" target=\"_parent\"><img src=\"https://colab.research.google.com/assets/colab-badge.svg\" alt=\"Open In Colab\"/></a>"
      ]
    },
    {
      "cell_type": "code",
      "metadata": {
        "colab": {
          "base_uri": "https://localhost:8080/"
        },
        "id": "r2CAd9mJqHyf",
        "outputId": "72893ccb-8c2c-4cf3-ad05-0d41361f4bb5"
      },
      "source": [
        "!pip install jax jaxlib flax"
      ],
      "execution_count": 1,
      "outputs": [
        {
          "output_type": "stream",
          "text": [
            "Requirement already satisfied: jax in /usr/local/lib/python3.7/dist-packages (0.2.13)\n",
            "Requirement already satisfied: jaxlib in /usr/local/lib/python3.7/dist-packages (0.1.66+cuda110)\n",
            "Requirement already satisfied: flax in /usr/local/lib/python3.7/dist-packages (0.3.4)\n",
            "Requirement already satisfied: absl-py in /usr/local/lib/python3.7/dist-packages (from jax) (0.12.0)\n",
            "Requirement already satisfied: opt-einsum in /usr/local/lib/python3.7/dist-packages (from jax) (3.3.0)\n",
            "Requirement already satisfied: numpy>=1.12 in /usr/local/lib/python3.7/dist-packages (from jax) (1.19.5)\n",
            "Requirement already satisfied: flatbuffers in /usr/local/lib/python3.7/dist-packages (from jaxlib) (1.12)\n",
            "Requirement already satisfied: scipy in /usr/local/lib/python3.7/dist-packages (from jaxlib) (1.4.1)\n",
            "Requirement already satisfied: msgpack in /usr/local/lib/python3.7/dist-packages (from flax) (1.0.2)\n",
            "Requirement already satisfied: matplotlib in /usr/local/lib/python3.7/dist-packages (from flax) (3.2.2)\n",
            "Requirement already satisfied: optax in /usr/local/lib/python3.7/dist-packages (from flax) (0.0.8)\n",
            "Requirement already satisfied: six in /usr/local/lib/python3.7/dist-packages (from absl-py->jax) (1.15.0)\n",
            "Requirement already satisfied: kiwisolver>=1.0.1 in /usr/local/lib/python3.7/dist-packages (from matplotlib->flax) (1.3.1)\n",
            "Requirement already satisfied: pyparsing!=2.0.4,!=2.1.2,!=2.1.6,>=2.0.1 in /usr/local/lib/python3.7/dist-packages (from matplotlib->flax) (2.4.7)\n",
            "Requirement already satisfied: cycler>=0.10 in /usr/local/lib/python3.7/dist-packages (from matplotlib->flax) (0.10.0)\n",
            "Requirement already satisfied: python-dateutil>=2.1 in /usr/local/lib/python3.7/dist-packages (from matplotlib->flax) (2.8.1)\n",
            "Requirement already satisfied: chex>=0.0.4 in /usr/local/lib/python3.7/dist-packages (from optax->flax) (0.0.7)\n",
            "Requirement already satisfied: toolz>=0.9.0 in /usr/local/lib/python3.7/dist-packages (from chex>=0.0.4->optax->flax) (0.11.1)\n",
            "Requirement already satisfied: dm-tree>=0.1.5 in /usr/local/lib/python3.7/dist-packages (from chex>=0.0.4->optax->flax) (0.1.6)\n"
          ],
          "name": "stdout"
        }
      ]
    },
    {
      "cell_type": "code",
      "metadata": {
        "id": "gYa58ZScdwBw"
      },
      "source": [
        "import gym\n",
        "gym.logger.set_level(40) # suppress warnings (please remove if gives error)\n",
        "import numpy as np\n",
        "from collections import deque\n",
        "import matplotlib.pyplot as plt\n",
        "%matplotlib inline\n",
        "import jax\n",
        "import jax.numpy as jp\n",
        "from jax.ops import index, index_add, index_update\n",
        "from jax import jit, grad, vmap, random, jacrev, jacobian, jacfwd, value_and_grad\n",
        "from functools import partial\n",
        "from jax.tree_util import tree_multimap  # Element-wise manipulation of collections of numpy arrays\n",
        "from flax import linen as nn           # The Linen API\n",
        "from flax.training import train_state  # Useful dataclass to keep train state\n",
        "import optax                           # Optimizers\n",
        "from typing import Sequence"
      ],
      "execution_count": 2,
      "outputs": []
    },
    {
      "cell_type": "code",
      "metadata": {
        "colab": {
          "base_uri": "https://localhost:8080/"
        },
        "id": "QKXVLQPHp_xg",
        "outputId": "64a2d41b-a8f9-4ee0-e01c-9df30fb7847e"
      },
      "source": [
        "env = gym.make('CartPole-v0')\n",
        "env.seed(0)\n",
        "print('observation space:', env.observation_space)\n",
        "print('action space:', env.action_space)\n",
        "h_size = 16\n",
        "a_size = 2\n",
        "s_size = 4"
      ],
      "execution_count": 3,
      "outputs": [
        {
          "output_type": "stream",
          "text": [
            "observation space: Box(-3.4028234663852886e+38, 3.4028234663852886e+38, (4,), float32)\n",
            "action space: Discrete(2)\n"
          ],
          "name": "stdout"
        }
      ]
    },
    {
      "cell_type": "code",
      "metadata": {
        "id": "LJ34x0qQlgwo"
      },
      "source": [
        "def one_hot(x, k, dtype=jp.float32):\n",
        "    \"\"\"Create a one-hot encoding of x of size k.\"\"\"\n",
        "    return jp.array(x[:, None] == jp.arange(k), dtype)\n",
        "\n",
        "def cumulative_returns(rewards, gamma):\n",
        "    returns = jp.zeros(len(rewards))\n",
        "    next_return = 0 # 0 because we start at the last timestep\n",
        "    for t in reversed(range(0, len(rewards))):\n",
        "        next_return = rewards[t] + gamma * next_return\n",
        "        returns = index_update(returns, index[t], next_return)\n",
        "    # normalize for better statistical properties\n",
        "    returns = (returns - returns.mean()) / (returns.std() + jp.finfo(jp.float32).eps)\n",
        "    return returns\n",
        "\n",
        "\n",
        "class Policy:\n",
        "    def __init__(self, rng, s_size=4, h_size=16, a_size=2, lr=1e-2):\n",
        "        super(Policy, self).__init__()\n",
        "        self.key = rng\n",
        "\n",
        "        class REINFORCE(nn.Module):\n",
        "            features: Sequence[int]\n",
        "\n",
        "            @nn.compact\n",
        "            def __call__(self, x):\n",
        "                x = nn.relu(nn.Dense(self.features[0])(x))\n",
        "                x = nn.softmax(nn.Dense(self.features[1])(x))\n",
        "                return x\n",
        "\n",
        "        def create_train_state(rng, learning_rate, s_size, h_size, a_size):\n",
        "            \"\"\"Creates initial `TrainState`.\"\"\"\n",
        "            model = REINFORCE(features=[h_size, a_size])\n",
        "            params = model.init(rng, jp.ones((s_size, )))#['params']\n",
        "            tx = optax.adam(learning_rate)\n",
        "            return train_state.TrainState.create(\n",
        "                apply_fn=model.apply, params=params, tx=tx)\n",
        "\n",
        "        self.ts = create_train_state(rng, lr, s_size, h_size, a_size)\n",
        "        \n",
        "        @jit\n",
        "        def train_step(ts, sar, gamma=1.0):\n",
        "            \"\"\"Train for a single step.\"\"\"\n",
        "            sar['r'] = cumulative_returns(sar['r'], gamma)\n",
        "            sar['s'] = jp.array(sar['s'])\n",
        "            sar['a'] = jp.array(sar['a'])\n",
        "            # print(f\"return shape:{sar['r'].shape}\\n\")\n",
        "            # print(f\"state shape:{sar['s'].shape}\\n\")\n",
        "            # print(f\"action shape:{sar['a'].shape}\\n\")\n",
        "\n",
        "            def loss_fn(params):\n",
        "                one_hot_actions = one_hot(sar['a'], a_size)\n",
        "                probs = ts.apply_fn(params, sar['s'])\n",
        "                # print(f\"oh actions shape:{one_hot_actions.shape}, probs shape:{probs.shape}, return shape:{sar['r'].shape}\\n\")\n",
        "                return jp.einsum('ij,i->',- one_hot_actions * jp.log(probs), sar['r'])\n",
        "\n",
        "            loss, grads = jax.value_and_grad(loss_fn)(ts.params)\n",
        "            return ts.apply_gradients(grads=grads), loss\n",
        "\n",
        "        self.train_fn = train_step\n",
        "\n",
        "    def act(self, state):\n",
        "        probs = self.ts.apply_fn(self.ts.params, state)\n",
        "        self.key, _ = jax.random.split(self.key)\n",
        "        uf = jax.random.uniform(self.key, (1,), minval=0.0, maxval=1.0)[0]\n",
        "        action = jp.argmax(uf < jp.cumsum(probs))\n",
        "        return action.item()\n"
      ],
      "execution_count": 4,
      "outputs": []
    },
    {
      "cell_type": "code",
      "metadata": {
        "id": "vLWzCk08ycyu"
      },
      "source": [
        "def reinforce(env, policy, n_episodes=10000, max_t=1000, gamma=1.0, print_every=100):\n",
        "    scores_deque = deque(maxlen=100)\n",
        "    scores = []\n",
        "    for i_episode in range(1, n_episodes+1):\n",
        "        # print(f\"Episode {i_episode}\")\n",
        "        saved_log_probs = []\n",
        "        rewards = []\n",
        "        sar = {key: [] for key in 'sar'}\n",
        "        state = env.reset()\n",
        "        # print(f'State:{state}')\n",
        "        for t in range(max_t):\n",
        "            action = policy.act(state)\n",
        "            # print(f'Action:{action}')\n",
        "            sar['s'].append(state)\n",
        "            sar['a'].append(action)\n",
        "            state, reward, done, _ = env.step(action)\n",
        "            sar['r'].append(reward)\n",
        "            rewards.append(reward)\n",
        "            if done:\n",
        "                # print(f'Done {t}')\n",
        "                break \n",
        "        scores_deque.append(sum(rewards))\n",
        "        scores.append(sum(rewards))\n",
        "        policy.ts, l = policy.train_fn(policy.ts, sar, gamma)\n",
        "        # print(f'loss {l}')\n",
        "        \n",
        "        if i_episode % print_every == 0:\n",
        "            print('Episode {}\\tAverage Score: {:.2f}'.format(i_episode, np.mean(scores_deque)))\n",
        "        if np.mean(scores_deque)>=195.0:\n",
        "            print('Environment solved in {:d} episodes!\\tAverage Score: {:.2f}'.format(i_episode-100, np.mean(scores_deque)))\n",
        "            break\n",
        "        \n",
        "    return scores\n",
        "\n",
        "def plot_scores(scores):\n",
        "    fig = plt.figure()\n",
        "    ax = fig.add_subplot(111)\n",
        "    plt.plot(np.arange(1, len(scores)+1), scores)\n",
        "    plt.ylabel('Score')\n",
        "    plt.xlabel('Episode #')\n",
        "    plt.show()"
      ],
      "execution_count": 5,
      "outputs": []
    },
    {
      "cell_type": "code",
      "metadata": {
        "colab": {
          "base_uri": "https://localhost:8080/",
          "height": 403
        },
        "id": "8MxUPAlHEAu-",
        "outputId": "ba9deb4b-8e96-4dcf-9d9d-1f9fea2fadfc"
      },
      "source": [
        "def main():\n",
        "    env = gym.make('CartPole-v0')\n",
        "    env.seed(0)\n",
        "    print('observation space:', env.observation_space)\n",
        "    print('action space:', env.action_space.n)\n",
        "    rng = jax.random.PRNGKey(0)\n",
        "    pi = Policy(rng, lr=1e-2)\n",
        "    scores = reinforce(env, pi)\n",
        "    plot_scores(scores)\n",
        "\n",
        "if __name__ == '__main__':\n",
        "    main()"
      ],
      "execution_count": 6,
      "outputs": [
        {
          "output_type": "stream",
          "text": [
            "observation space: Box(-3.4028234663852886e+38, 3.4028234663852886e+38, (4,), float32)\n",
            "action space: 2\n",
            "Episode 100\tAverage Score: 45.86\n",
            "Episode 200\tAverage Score: 144.52\n",
            "Episode 300\tAverage Score: 169.64\n",
            "Episode 400\tAverage Score: 184.83\n",
            "Environment solved in 399 episodes!\tAverage Score: 195.64\n"
          ],
          "name": "stdout"
        },
        {
          "output_type": "display_data",
          "data": {
            "image/png": "[encoded data removed]",
            "text/plain": [
              "<Figure size 432x288 with 1 Axes>"
            ]
          },
          "metadata": {
            "tags": [],
            "needs_background": "light"
          }
        }
      ]
    }
  ]
}