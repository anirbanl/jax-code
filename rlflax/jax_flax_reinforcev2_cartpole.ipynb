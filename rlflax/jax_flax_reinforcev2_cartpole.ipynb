{
  "nbformat": 4,
  "nbformat_minor": 0,
  "metadata": {
    "colab": {
      "name": "jax-flax-reinforce-cartpole-working.ipynb",
      "provenance": [],
      "collapsed_sections": [],
      "authorship_tag": "ABX9TyPkDgAnDbdM/tz+D/g7DvgW",
      "include_colab_link": true
    },
    "kernelspec": {
      "name": "python3",
      "display_name": "Python 3"
    },
    "language_info": {
      "name": "python"
    },
    "accelerator": "GPU"
  },
  "cells": [
    {
      "cell_type": "markdown",
      "metadata": {
        "id": "view-in-github",
        "colab_type": "text"
      },
      "source": [
        "<a href=\"https://colab.research.google.com/github/anirbanl/jax-code/blob/master/rlflax/jax_flax_reinforcev2_cartpole.ipynb\" target=\"_parent\"><img src=\"https://colab.research.google.com/assets/colab-badge.svg\" alt=\"Open In Colab\"/></a>"
      ]
    },
    {
      "cell_type": "code",
      "metadata": {
        "colab": {
          "base_uri": "https://localhost:8080/"
        },
        "id": "r2CAd9mJqHyf",
        "outputId": "2f72d218-f387-4ede-c59c-b1b523cc310b"
      },
      "source": [
        "!pip install jax jaxlib flax"
      ],
      "execution_count": 1,
      "outputs": [
        {
          "output_type": "stream",
          "text": [
            "Requirement already satisfied: jax in /usr/local/lib/python3.7/dist-packages (0.2.13)\n",
            "Requirement already satisfied: jaxlib in /usr/local/lib/python3.7/dist-packages (0.1.66+cuda110)\n",
            "Collecting flax\n",
            "\u001b[?25l  Downloading https://files.pythonhosted.org/packages/f6/21/21ca1f4831ac24646578d2545c4db9a8369b9da4a4b7dcf067feee312b45/flax-0.3.4-py3-none-any.whl (183kB)\n",
            "\u001b[K     |████████████████████████████████| 184kB 7.9MB/s \n",
            "\u001b[?25hRequirement already satisfied: opt-einsum in /usr/local/lib/python3.7/dist-packages (from jax) (3.3.0)\n",
            "Requirement already satisfied: numpy>=1.12 in /usr/local/lib/python3.7/dist-packages (from jax) (1.19.5)\n",
            "Requirement already satisfied: absl-py in /usr/local/lib/python3.7/dist-packages (from jax) (0.12.0)\n",
            "Requirement already satisfied: scipy in /usr/local/lib/python3.7/dist-packages (from jaxlib) (1.4.1)\n",
            "Requirement already satisfied: flatbuffers in /usr/local/lib/python3.7/dist-packages (from jaxlib) (1.12)\n",
            "Collecting optax\n",
            "\u001b[?25l  Downloading https://files.pythonhosted.org/packages/ca/04/464fa1d12562d191196f2f7f8112d65e22eaaa9a7e2b599f298aeba2ce27/optax-0.0.8-py3-none-any.whl (113kB)\n",
            "\u001b[K     |████████████████████████████████| 122kB 14.5MB/s \n",
            "\u001b[?25hRequirement already satisfied: matplotlib in /usr/local/lib/python3.7/dist-packages (from flax) (3.2.2)\n",
            "Requirement already satisfied: msgpack in /usr/local/lib/python3.7/dist-packages (from flax) (1.0.2)\n",
            "Requirement already satisfied: six in /usr/local/lib/python3.7/dist-packages (from absl-py->jax) (1.15.0)\n",
            "Collecting chex>=0.0.4\n",
            "\u001b[?25l  Downloading https://files.pythonhosted.org/packages/f5/b9/445eb59ec23249acffc5322c79b07e20b12dbff45b9c1da6cdae9e947685/chex-0.0.7-py3-none-any.whl (52kB)\n",
            "\u001b[K     |████████████████████████████████| 61kB 5.9MB/s \n",
            "\u001b[?25hRequirement already satisfied: python-dateutil>=2.1 in /usr/local/lib/python3.7/dist-packages (from matplotlib->flax) (2.8.1)\n",
            "Requirement already satisfied: kiwisolver>=1.0.1 in /usr/local/lib/python3.7/dist-packages (from matplotlib->flax) (1.3.1)\n",
            "Requirement already satisfied: cycler>=0.10 in /usr/local/lib/python3.7/dist-packages (from matplotlib->flax) (0.10.0)\n",
            "Requirement already satisfied: pyparsing!=2.0.4,!=2.1.2,!=2.1.6,>=2.0.1 in /usr/local/lib/python3.7/dist-packages (from matplotlib->flax) (2.4.7)\n",
            "Requirement already satisfied: dm-tree>=0.1.5 in /usr/local/lib/python3.7/dist-packages (from chex>=0.0.4->optax->flax) (0.1.6)\n",
            "Requirement already satisfied: toolz>=0.9.0 in /usr/local/lib/python3.7/dist-packages (from chex>=0.0.4->optax->flax) (0.11.1)\n",
            "Installing collected packages: chex, optax, flax\n",
            "Successfully installed chex-0.0.7 flax-0.3.4 optax-0.0.8\n"
          ],
          "name": "stdout"
        }
      ]
    },
    {
      "cell_type": "code",
      "metadata": {
        "id": "gYa58ZScdwBw"
      },
      "source": [
        "import gym\n",
        "gym.logger.set_level(40) # suppress warnings (please remove if gives error)\n",
        "import numpy as np\n",
        "from collections import deque\n",
        "import matplotlib.pyplot as plt\n",
        "%matplotlib inline\n",
        "import jax\n",
        "import jax.numpy as jp\n",
        "from jax.ops import index, index_add, index_update\n",
        "from jax import jit, grad, vmap, random, jacrev, jacobian, jacfwd, value_and_grad\n",
        "from functools import partial\n",
        "from jax.tree_util import tree_multimap  # Element-wise manipulation of collections of numpy arrays\n",
        "from flax import linen as nn           # The Linen API\n",
        "from flax.training import train_state  # Useful dataclass to keep train state\n",
        "from flax.core import freeze, unfreeze\n",
        "import optax                           # Optimizers\n",
        "from typing import Sequence"
      ],
      "execution_count": 2,
      "outputs": []
    },
    {
      "cell_type": "code",
      "metadata": {
        "colab": {
          "base_uri": "https://localhost:8080/"
        },
        "id": "QKXVLQPHp_xg",
        "outputId": "332e18e2-e29b-4a0e-9db1-51dd01a90580"
      },
      "source": [
        "env = gym.make('CartPole-v0')\n",
        "env.seed(0)\n",
        "print('observation space:', env.observation_space)\n",
        "print('action space:', env.action_space)\n",
        "print(env.action_space.n)"
      ],
      "execution_count": 3,
      "outputs": [
        {
          "output_type": "stream",
          "text": [
            "observation space: Box(-3.4028234663852886e+38, 3.4028234663852886e+38, (4,), float32)\n",
            "action space: Discrete(2)\n",
            "2\n"
          ],
          "name": "stdout"
        }
      ]
    },
    {
      "cell_type": "code",
      "metadata": {
        "id": "y68zPJScDhgj"
      },
      "source": [
        "h_size = 16\n",
        "a_size = 2\n",
        "s_size = 4"
      ],
      "execution_count": 4,
      "outputs": []
    },
    {
      "cell_type": "code",
      "metadata": {
        "colab": {
          "base_uri": "https://localhost:8080/"
        },
        "id": "HxeeK9WmC7uP",
        "outputId": "06fd661c-1fb9-4807-e11e-61acc03340df"
      },
      "source": [
        "class REINFORCE(nn.Module):\n",
        "    features: Sequence[int]\n",
        "\n",
        "    @nn.compact\n",
        "    def __call__(self, x):\n",
        "        x = nn.relu(nn.Dense(self.features[0])(x))\n",
        "        x = nn.softmax(nn.Dense(self.features[1])(x))\n",
        "        return x\n",
        "\n",
        "key1, key2 = random.split(random.PRNGKey(1000), 2)\n",
        "x = random.uniform(key1, (s_size, ))\n",
        "\n",
        "model = REINFORCE(features=[h_size, a_size])\n",
        "params = model.init(key2, x)\n",
        "y = model.apply(params, x)\n",
        "\n",
        "print('initialized parameter shapes:\\n', jax.tree_map(jp.shape, unfreeze(params)))\n",
        "print('output:\\n', y)"
      ],
      "execution_count": 5,
      "outputs": [
        {
          "output_type": "stream",
          "text": [
            "WARNING:absl:No GPU/TPU found, falling back to CPU. (Set TF_CPP_MIN_LOG_LEVEL=0 and rerun for more info.)\n"
          ],
          "name": "stderr"
        },
        {
          "output_type": "stream",
          "text": [
            "initialized parameter shapes:\n",
            " {'params': {'Dense_0': {'bias': (16,), 'kernel': (4, 16)}, 'Dense_1': {'bias': (2,), 'kernel': (16, 2)}}}\n",
            "output:\n",
            " [0.28162536 0.71837467]\n"
          ],
          "name": "stdout"
        }
      ]
    },
    {
      "cell_type": "code",
      "metadata": {
        "id": "s5Ml5EmTEthN"
      },
      "source": [
        "def create_train_state(rng, learning_rate, s_size, h_size, a_size):\n",
        "  \"\"\"Creates initial `TrainState`.\"\"\"\n",
        "  model = REINFORCE(features=[h_size, a_size])\n",
        "  params = model.init(rng, jp.ones((s_size, )))#['params']\n",
        "  tx = optax.adam(learning_rate)\n",
        "  return train_state.TrainState.create(\n",
        "      apply_fn=model.apply, params=params, tx=tx)"
      ],
      "execution_count": 6,
      "outputs": []
    },
    {
      "cell_type": "code",
      "metadata": {
        "id": "eE_UWKf1yllb"
      },
      "source": [
        "def one_hot(x, k, dtype=jp.float32):\n",
        "    \"\"\"Create a one-hot encoding of x of size k.\"\"\"\n",
        "    return jp.array(x[:, None] == jp.arange(k), dtype)\n",
        "\n",
        "def cumulative_returns(rewards, gamma):\n",
        "    returns = jp.zeros(len(rewards))\n",
        "    next_return = 0 # 0 because we start at the last timestep\n",
        "    for t in reversed(range(0, len(rewards))):\n",
        "        next_return = rewards[t] + gamma * next_return\n",
        "        returns = index_update(returns, index[t], next_return)\n",
        "    # normalize for better statistical properties\n",
        "    returns = (returns - returns.mean()) / (returns.std() + jp.finfo(jp.float32).eps)\n",
        "    return returns\n",
        "\n",
        "@jit\n",
        "def train_step(ts, sar, gamma=1.0):\n",
        "    \"\"\"Train for a single step.\"\"\"\n",
        "    sar['r'] = cumulative_returns(sar['r'], gamma)\n",
        "    sar['s'] = jp.array(sar['s'])\n",
        "    sar['a'] = jp.array(sar['a'])\n",
        "    # print(f\"return shape:{sar['r'].shape}\\n\")\n",
        "    # print(f\"state shape:{sar['s'].shape}\\n\")\n",
        "    # print(f\"action shape:{sar['a'].shape}\\n\")\n",
        "\n",
        "    def loss_fn(params):\n",
        "        one_hot_actions = one_hot(sar['a'], a_size)\n",
        "        probs = ts.apply_fn(params, sar['s'])\n",
        "        # print(f\"oh actions shape:{one_hot_actions.shape}, probs shape:{probs.shape}, return shape:{sar['r'].shape}\\n\")\n",
        "        return jp.einsum('ij,i->',- one_hot_actions * jp.log(probs), sar['r'])\n",
        "\n",
        "    loss, grads = jax.value_and_grad(loss_fn)(ts.params)\n",
        "    return ts.apply_gradients(grads=grads), loss\n",
        "\n",
        "def act(key, ts, state):\n",
        "    probs = ts.apply_fn(ts.params, state)\n",
        "    key, _ = jax.random.split(key)\n",
        "    uf = jax.random.uniform(key, (1,), minval=0.0, maxval=1.0)[0]\n",
        "    action = jp.argmax(uf < jp.cumsum(probs))\n",
        "    return key, action.item()\n"
      ],
      "execution_count": 7,
      "outputs": []
    },
    {
      "cell_type": "code",
      "metadata": {
        "id": "vLWzCk08ycyu"
      },
      "source": [
        "def reinforce(key, env, ts, n_episodes=10000, max_t=1000, gamma=1.0, print_every=100):\n",
        "    scores_deque = deque(maxlen=100)\n",
        "    scores = []\n",
        "    for i_episode in range(1, n_episodes+1):\n",
        "        # print(f\"Episode {i_episode}\")\n",
        "        saved_log_probs = []\n",
        "        rewards = []\n",
        "        sar = {key: [] for key in 'sar'}\n",
        "        state = env.reset()\n",
        "        # print(f'State:{state}')\n",
        "        for t in range(max_t):\n",
        "            key, action = act(key, ts, state)\n",
        "            # print(f'Action:{action}')\n",
        "            sar['s'].append(state)\n",
        "            sar['a'].append(action)\n",
        "            state, reward, done, _ = env.step(action)\n",
        "            sar['r'].append(reward)\n",
        "            rewards.append(reward)\n",
        "            if done:\n",
        "                # print(f'Done {t}')\n",
        "                break \n",
        "        scores_deque.append(sum(rewards))\n",
        "        scores.append(sum(rewards))\n",
        "        ts, l = train_step(ts, sar, gamma)\n",
        "        # print(f'loss {l}')\n",
        "        \n",
        "        if i_episode % print_every == 0:\n",
        "            print('Episode {}\\tAverage Score: {:.2f}'.format(i_episode, np.mean(scores_deque)))\n",
        "        if np.mean(scores_deque)>=195.0:\n",
        "            print('Environment solved in {:d} episodes!\\tAverage Score: {:.2f}'.format(i_episode-100, np.mean(scores_deque)))\n",
        "            break\n",
        "        \n",
        "    return scores\n",
        "\n",
        "def plot_scores(scores):\n",
        "    fig = plt.figure()\n",
        "    ax = fig.add_subplot(111)\n",
        "    plt.plot(np.arange(1, len(scores)+1), scores)\n",
        "    plt.ylabel('Score')\n",
        "    plt.xlabel('Episode #')\n",
        "    plt.show()"
      ],
      "execution_count": 8,
      "outputs": []
    },
    {
      "cell_type": "code",
      "metadata": {
        "colab": {
          "base_uri": "https://localhost:8080/",
          "height": 385
        },
        "id": "8MxUPAlHEAu-",
        "outputId": "2df1affb-59a3-4a1f-ea86-5606ec3d5cbd"
      },
      "source": [
        "def main():\n",
        "    env = gym.make('CartPole-v0')\n",
        "    env.seed(0)\n",
        "    print('observation space:', env.observation_space)\n",
        "    print('action space:', env.action_space.n)\n",
        "    rng = jax.random.PRNGKey(0)\n",
        "    ts = create_train_state(rng, 1e-2, s_size, h_size, a_size)\n",
        "    scores = reinforce(rng, env, ts)\n",
        "    plot_scores(scores)\n",
        "\n",
        "if __name__ == '__main__':\n",
        "    main()"
      ],
      "execution_count": 11,
      "outputs": [
        {
          "output_type": "stream",
          "text": [
            "observation space: Box(-3.4028234663852886e+38, 3.4028234663852886e+38, (4,), float32)\n",
            "action space: 2\n",
            "Episode 100\tAverage Score: 44.70\n",
            "Episode 200\tAverage Score: 165.79\n",
            "Episode 300\tAverage Score: 190.24\n",
            "Environment solved in 244 episodes!\tAverage Score: 195.37\n"
          ],
          "name": "stdout"
        },
        {
          "output_type": "display_data",
          "data": {
            "image/png": "[encoded data removed]",
            "text/plain": [
              "<Figure size 432x288 with 1 Axes>"
            ]
          },
          "metadata": {
            "tags": [],
            "needs_background": "light"
          }
        }
      ]
    }
  ]
}